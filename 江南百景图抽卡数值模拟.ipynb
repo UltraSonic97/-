{
  "nbformat": 4,
  "nbformat_minor": 0,
  "metadata": {
    "colab": {
      "name": "江南百景图抽卡数值模拟.ipynb",
      "provenance": [],
      "collapsed_sections": []
    },
    "kernelspec": {
      "name": "python3",
      "display_name": "Python 3"
    }
  },
  "cells": [
    {
      "cell_type": "markdown",
      "metadata": {
        "id": "CxwBREaM1ayo"
      },
      "source": [
        "本质上讲，我们每次不同的抽卡都可以视为独立同分布的数值采样，我们可以将其简单地视为首先将不同卡片根据其设计好的概率数值摆放在0到1这个区间内，然后每次抽卡则在0到1中随机选取一个数字，根据此前已摆放好的卡片映射得到抽卡结果。\n",
        "\n",
        "在Python中，random库中的choices函数已经为我们实现好了给定相对概率的采样，从而无需重复造轮子，直接调用即可。"
      ]
    },
    {
      "cell_type": "markdown",
      "metadata": {
        "id": "M2NOnINM1dDN"
      },
      "source": [
        "比如，最简单的抽卡游戏：抛硬币正反面"
      ]
    },
    {
      "cell_type": "code",
      "metadata": {
        "id": "Gy7E_j-Z2mO9"
      },
      "source": [
        "import random"
      ],
      "execution_count": 1,
      "outputs": []
    },
    {
      "cell_type": "code",
      "metadata": {
        "id": "VKSZW9VQvaQ0"
      },
      "source": [
        "def toss_coin(N:int):\n",
        "    assert N > 0\n",
        "    return random.choices(population=['正', '反'], weights=[1, 1], k=N)"
      ],
      "execution_count": 2,
      "outputs": []
    },
    {
      "cell_type": "code",
      "metadata": {
        "colab": {
          "base_uri": "https://localhost:8080/"
        },
        "id": "N6pt2Aw83Zby",
        "outputId": "8f735909-5e3c-473e-9f4d-5d931062f4a5"
      },
      "source": [
        "toss_coin(10)"
      ],
      "execution_count": 5,
      "outputs": [
        {
          "output_type": "execute_result",
          "data": {
            "text/plain": [
              "['反', '正', '正', '正', '反', '反', '正', '反', '正', '反']"
            ]
          },
          "metadata": {
            "tags": []
          },
          "execution_count": 5
        }
      ]
    },
    {
      "cell_type": "markdown",
      "metadata": {
        "id": "MDls7rT4veCS"
      },
      "source": [
        "\n",
        "在实际的游戏中，略有不同的地方在于\n",
        " - 卡片通常会有一些固定的分类，比如江南百景图中的 天、侯、卿士 三种级别；游戏开发团队可能会需要不定时根据类别进行概率调整，或者调整某一特定类别中一张或多张卡片的概率\n",
        " - 为了保障玩家（非酋）的游戏体验，总是会设计一些保底机制防止人类心态爆炸，例如江南百景图中的金卷轴十连必出侯\n",
        "\n",
        "这两个额外的需求我们可以通过两个设计实现：\n",
        " - 单次抽卡分解为两次随机采样，第一次采样决定级别，第二次采样决定该级别内具体角色（类似于ARPG游戏中先染色）\n",
        " - 十连首先在保底级别中进行一次抽卡，比如先从 天、侯 级别中抽卡一次，剩下九次进行常规抽卡"
      ]
    },
    {
      "cell_type": "markdown",
      "metadata": {
        "id": "ZDS9ekqi5rL9"
      },
      "source": [
        "按照这个思路，我们可以先简单设计一个只考虑人物等级的精英卡池抽卡模拟器"
      ]
    },
    {
      "cell_type": "code",
      "metadata": {
        "id": "NxrM04dD340C"
      },
      "source": [
        "# 简单模拟一下精英卡池等级抽卡\n",
        "\n",
        "级别列表 = ['天', '侯', '卿', '士']\n",
        "级别相对概率 = [6, 26, 68, 0]\n",
        "\n",
        "def draw(k=1):\n",
        "    if k==10:\n",
        "        保底 = random.choices(级别列表[:2], weights=级别相对概率[:2], k=1)\n",
        "        剩余 = random.choices(级别列表, weights=级别相对概率, k=9)\n",
        "        return 保底+剩余\n",
        "\n",
        "    if k!=1:\n",
        "        raise ValueError(\"目前仅支持单抽或十连！\")\n",
        "        \n",
        "    return random.choices(级别列表, weights=级别相对概率, k=k)"
      ],
      "execution_count": 52,
      "outputs": []
    },
    {
      "cell_type": "markdown",
      "metadata": {
        "id": "IjPIVr6U9mqX"
      },
      "source": [
        "虽然仍然非常粗糙，这个仍然可以提供给我们许多信息：我们可以用它来测试单抽和十连的不同结果。"
      ]
    },
    {
      "cell_type": "code",
      "metadata": {
        "id": "Tb76LOTe5HnJ"
      },
      "source": [
        "def 十连(repeat=100):\n",
        "    results = [draw(k=10) for rep in range(repeat)]\n",
        "    return [r for sub_res in results for r in sub_res]\n",
        "\n",
        "def 单抽(repeat=1000):\n",
        "    results = [draw(k=1) for rep in range(repeat)]\n",
        "    return [r for sub_res in results for r in sub_res]"
      ],
      "execution_count": 131,
      "outputs": []
    },
    {
      "cell_type": "markdown",
      "metadata": {
        "id": "Is5GhdhnBzuS"
      },
      "source": [
        "根据大数定律，只要重复次数足够多，试验中某事件的频率就会逼近其真实的概率。\n",
        "\n",
        "据此我们可以尝试用百万十连测试十连的等效单次出天率。"
      ]
    },
    {
      "cell_type": "code",
      "metadata": {
        "colab": {
          "base_uri": "https://localhost:8080/"
        },
        "id": "Eu9uBJLX5_5w",
        "outputId": "2e2f7afb-3783-4ceb-e584-7fad22f091dd"
      },
      "source": [
        "重复次数 = 1000000\n",
        "十连(repeat=重复次数).count('天') / (重复次数*10)"
      ],
      "execution_count": 129,
      "outputs": [
        {
          "output_type": "execute_result",
          "data": {
            "text/plain": [
              "0.0726011"
            ]
          },
          "metadata": {
            "tags": []
          },
          "execution_count": 129
        }
      ]
    },
    {
      "cell_type": "code",
      "metadata": {
        "colab": {
          "base_uri": "https://localhost:8080/"
        },
        "id": "HKGHLKwwAJ9i",
        "outputId": "9e94bd77-af8a-4152-bd8d-cec0e7ea5946"
      },
      "source": [
        "重复次数 = 10000000\n",
        "单抽(repeat=重复次数).count('天') / (重复次数)"
      ],
      "execution_count": 132,
      "outputs": [
        {
          "output_type": "execute_result",
          "data": {
            "text/plain": [
              "0.0598872"
            ]
          },
          "metadata": {
            "tags": []
          },
          "execution_count": 132
        }
      ]
    },
    {
      "cell_type": "markdown",
      "metadata": {
        "id": "SDzInuz3CpGD"
      },
      "source": [
        "可以看到，百万十连告诉我们十连的等效单次出天率在7%左右，比单抽高了一个百分点。"
      ]
    },
    {
      "cell_type": "markdown",
      "metadata": {
        "id": "DpkbTIlUDk6j"
      },
      "source": [
        "我们假设某氪佬/肝佬，十连一百次，然后再单抽一千次，看看两次的分布有啥不一样。"
      ]
    },
    {
      "cell_type": "markdown",
      "metadata": {
        "id": "29k_P0Q7EDom"
      },
      "source": [
        ""
      ]
    },
    {
      "cell_type": "code",
      "metadata": {
        "id": "VtH9IqiIEEAR"
      },
      "source": [
        "import numpy as np\n",
        "import matplotlib.pyplot as plt"
      ],
      "execution_count": 159,
      "outputs": []
    },
    {
      "cell_type": "code",
      "metadata": {
        "colab": {
          "base_uri": "https://localhost:8080/",
          "height": 297
        },
        "id": "EEVKg_Q7KufS",
        "outputId": "53190b84-f0a6-4743-e123-1fed54953e8c"
      },
      "source": [
        "repeat = 100\n",
        "results = [draw(k=10) for rep in range(repeat)]\n",
        "十连天数表 = [result.count('天') for result in results]\n",
        "labels, counts = np.unique(十连天数表, return_counts=True)\n",
        "\n",
        "\n",
        "x = labels  # the label locations\n",
        "width = 0.35  # the width of the bars\n",
        "\n",
        "fig, ax = plt.subplots()\n",
        "rects1 = ax.bar(x - width/2, counts, width, label='Tian')\n",
        "\n",
        "# Add some text for labels, title and custom x-axis tick labels, etc.\n",
        "ax.set_ylabel('Frequency')\n",
        "ax.set_title('Number of Tian')\n",
        "ax.set_xticks(x)\n",
        "ax.set_xticklabels(labels)\n",
        "ax.legend()\n",
        "\n",
        "\n",
        "def autolabel(rects):\n",
        "    \"\"\"Attach a text label above each bar in *rects*, displaying its height.\"\"\"\n",
        "    for rect in rects:\n",
        "        height = rect.get_height()\n",
        "        ax.annotate('{}'.format(height),\n",
        "                    xy=(rect.get_x() + rect.get_width() / 2, height),\n",
        "                    xytext=(0, 3),  # 3 points vertical offset\n",
        "                    textcoords=\"offset points\",\n",
        "                    ha='center', va='bottom')\n",
        "\n",
        "\n",
        "autolabel(rects1)\n",
        "# autolabel(rects2)\n",
        "\n",
        "fig.tight_layout()\n",
        "\n",
        "plt.show()"
      ],
      "execution_count": 189,
      "outputs": [
        {
          "output_type": "display_data",
          "data": {
            "image/png": "[encoded data removed]",
            "text/plain": [
              "<Figure size 432x288 with 1 Axes>"
            ]
          },
          "metadata": {
            "tags": [],
            "needs_background": "light"
          }
        }
      ]
    },
    {
      "cell_type": "markdown",
      "metadata": {
        "id": "VLVkFHn-LlRD"
      },
      "source": [
        "惊了，该欧皇居然有两次十连出了4天，恐怖如斯。"
      ]
    },
    {
      "cell_type": "code",
      "metadata": {
        "id": "tZ8J_yORG-JM"
      },
      "source": [
        ""
      ],
      "execution_count": null,
      "outputs": []
    }
  ]
}